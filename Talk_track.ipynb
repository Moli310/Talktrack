{
  "nbformat": 4,
  "nbformat_minor": 0,
  "metadata": {
    "colab": {
      "provenance": []
    },
    "kernelspec": {
      "name": "python3",
      "display_name": "Python 3"
    },
    "language_info": {
      "name": "python"
    }
  },
  "cells": [
    {
      "cell_type": "code",
      "execution_count": 1,
      "metadata": {
        "colab": {
          "base_uri": "https://localhost:8080/"
        },
        "id": "IkB5m6N8GSNr",
        "outputId": "9f5733e1-37ec-49bd-a196-ef8e277dad84"
      },
      "outputs": [
        {
          "output_type": "stream",
          "name": "stdout",
          "text": [
            "Collecting speechRecognition\n",
            "  Downloading speechrecognition-3.14.3-py3-none-any.whl.metadata (30 kB)\n",
            "Requirement already satisfied: typing-extensions in /usr/local/lib/python3.12/dist-packages (from speechRecognition) (4.15.0)\n",
            "Downloading speechrecognition-3.14.3-py3-none-any.whl (32.9 MB)\n",
            "\u001b[2K   \u001b[90m━━━━━━━━━━━━━━━━━━━━━━━━━━━━━━━━━━━━━━━━\u001b[0m \u001b[32m32.9/32.9 MB\u001b[0m \u001b[31m62.5 MB/s\u001b[0m eta \u001b[36m0:00:00\u001b[0m\n",
            "\u001b[?25hInstalling collected packages: speechRecognition\n",
            "Successfully installed speechRecognition-3.14.3\n"
          ]
        }
      ],
      "source": [
        "!pip install speechRecognition"
      ]
    },
    {
      "cell_type": "code",
      "source": [
        "!pip install pyttsx3"
      ],
      "metadata": {
        "colab": {
          "base_uri": "https://localhost:8080/"
        },
        "id": "kKQKTNasJZvb",
        "outputId": "007a3586-3661-493a-e1e6-e155a5054461"
      },
      "execution_count": 9,
      "outputs": [
        {
          "output_type": "stream",
          "name": "stdout",
          "text": [
            "Collecting pyttsx3\n",
            "  Downloading pyttsx3-2.99-py3-none-any.whl.metadata (6.2 kB)\n",
            "Downloading pyttsx3-2.99-py3-none-any.whl (32 kB)\n",
            "Installing collected packages: pyttsx3\n",
            "Successfully installed pyttsx3-2.99\n"
          ]
        }
      ]
    },
    {
      "cell_type": "code",
      "source": [
        "import random\n",
        "import speech_recognition as sr\n",
        "import pyttsx3\n"
      ],
      "metadata": {
        "id": "LbESz3EKJTEn"
      },
      "execution_count": 10,
      "outputs": []
    },
    {
      "cell_type": "code",
      "source": [
        "!apt-get update && apt-get install -y espeak-ng"
      ],
      "metadata": {
        "colab": {
          "base_uri": "https://localhost:8080/"
        },
        "id": "huF2dgs5Jt23",
        "outputId": "4d0128e4-4f4b-4265-d75a-4abaf3a4a6f0"
      },
      "execution_count": 12,
      "outputs": [
        {
          "output_type": "stream",
          "name": "stdout",
          "text": [
            "\r0% [Working]\r            \rHit:1 https://cli.github.com/packages stable InRelease\n",
            "\r0% [Connecting to archive.ubuntu.com (185.125.190.83)] [Connecting to security.\r                                                                               \rGet:2 https://cloud.r-project.org/bin/linux/ubuntu jammy-cran40/ InRelease [3,632 B]\n",
            "Get:3 https://developer.download.nvidia.com/compute/cuda/repos/ubuntu2204/x86_64  InRelease [1,581 B]\n",
            "Get:4 http://security.ubuntu.com/ubuntu jammy-security InRelease [129 kB]\n",
            "Get:5 https://r2u.stat.illinois.edu/ubuntu jammy InRelease [6,555 B]\n",
            "Hit:6 http://archive.ubuntu.com/ubuntu jammy InRelease\n",
            "Get:7 https://developer.download.nvidia.com/compute/cuda/repos/ubuntu2204/x86_64  Packages [2,080 kB]\n",
            "Get:8 http://archive.ubuntu.com/ubuntu jammy-updates InRelease [128 kB]\n",
            "Hit:9 https://ppa.launchpadcontent.net/deadsnakes/ppa/ubuntu jammy InRelease\n",
            "Get:10 https://r2u.stat.illinois.edu/ubuntu jammy/main amd64 Packages [2,812 kB]\n",
            "Hit:11 https://ppa.launchpadcontent.net/graphics-drivers/ppa/ubuntu jammy InRelease\n",
            "Hit:12 https://ppa.launchpadcontent.net/ubuntugis/ppa/ubuntu jammy InRelease\n",
            "Get:13 https://r2u.stat.illinois.edu/ubuntu jammy/main all Packages [9,354 kB]\n",
            "Get:14 http://security.ubuntu.com/ubuntu jammy-security/universe amd64 Packages [1,276 kB]\n",
            "Get:15 http://archive.ubuntu.com/ubuntu jammy-backports InRelease [127 kB]\n",
            "Get:16 http://archive.ubuntu.com/ubuntu jammy-updates/main amd64 Packages [3,755 kB]\n",
            "Get:17 http://security.ubuntu.com/ubuntu jammy-security/main amd64 Packages [3,428 kB]\n",
            "Get:18 http://security.ubuntu.com/ubuntu jammy-security/restricted amd64 Packages [5,735 kB]\n",
            "Get:19 http://archive.ubuntu.com/ubuntu jammy-updates/universe amd64 Packages [1,584 kB]\n",
            "Get:20 http://archive.ubuntu.com/ubuntu jammy-updates/restricted amd64 Packages [5,936 kB]\n",
            "Fetched 36.4 MB in 4s (9,796 kB/s)\n",
            "Reading package lists... Done\n",
            "W: Skipping acquire of configured file 'main/source/Sources' as repository 'https://r2u.stat.illinois.edu/ubuntu jammy InRelease' does not seem to provide it (sources.list entry misspelt?)\n",
            "Reading package lists... Done\n",
            "Building dependency tree... Done\n",
            "Reading state information... Done\n",
            "The following additional packages will be installed:\n",
            "  espeak-ng-data libespeak-ng1 libpcaudio0 libsonic0\n",
            "The following NEW packages will be installed:\n",
            "  espeak-ng espeak-ng-data libespeak-ng1 libpcaudio0 libsonic0\n",
            "0 upgraded, 5 newly installed, 0 to remove and 38 not upgraded.\n",
            "Need to get 4,526 kB of archives.\n",
            "After this operation, 11.9 MB of additional disk space will be used.\n",
            "Get:1 http://archive.ubuntu.com/ubuntu jammy/main amd64 libpcaudio0 amd64 1.1-6build2 [8,956 B]\n",
            "Get:2 http://archive.ubuntu.com/ubuntu jammy/main amd64 libsonic0 amd64 0.2.0-11build1 [10.3 kB]\n",
            "Get:3 http://archive.ubuntu.com/ubuntu jammy-updates/main amd64 espeak-ng-data amd64 1.50+dfsg-10ubuntu0.1 [3,956 kB]\n",
            "Get:4 http://archive.ubuntu.com/ubuntu jammy-updates/main amd64 libespeak-ng1 amd64 1.50+dfsg-10ubuntu0.1 [207 kB]\n",
            "Get:5 http://archive.ubuntu.com/ubuntu jammy-updates/universe amd64 espeak-ng amd64 1.50+dfsg-10ubuntu0.1 [343 kB]\n",
            "Fetched 4,526 kB in 2s (2,982 kB/s)\n",
            "Selecting previously unselected package libpcaudio0:amd64.\n",
            "(Reading database ... 126675 files and directories currently installed.)\n",
            "Preparing to unpack .../libpcaudio0_1.1-6build2_amd64.deb ...\n",
            "Unpacking libpcaudio0:amd64 (1.1-6build2) ...\n",
            "Selecting previously unselected package libsonic0:amd64.\n",
            "Preparing to unpack .../libsonic0_0.2.0-11build1_amd64.deb ...\n",
            "Unpacking libsonic0:amd64 (0.2.0-11build1) ...\n",
            "Selecting previously unselected package espeak-ng-data:amd64.\n",
            "Preparing to unpack .../espeak-ng-data_1.50+dfsg-10ubuntu0.1_amd64.deb ...\n",
            "Unpacking espeak-ng-data:amd64 (1.50+dfsg-10ubuntu0.1) ...\n",
            "Selecting previously unselected package libespeak-ng1:amd64.\n",
            "Preparing to unpack .../libespeak-ng1_1.50+dfsg-10ubuntu0.1_amd64.deb ...\n",
            "Unpacking libespeak-ng1:amd64 (1.50+dfsg-10ubuntu0.1) ...\n",
            "Selecting previously unselected package espeak-ng.\n",
            "Preparing to unpack .../espeak-ng_1.50+dfsg-10ubuntu0.1_amd64.deb ...\n",
            "Unpacking espeak-ng (1.50+dfsg-10ubuntu0.1) ...\n",
            "Setting up libpcaudio0:amd64 (1.1-6build2) ...\n",
            "Setting up libsonic0:amd64 (0.2.0-11build1) ...\n",
            "Setting up espeak-ng-data:amd64 (1.50+dfsg-10ubuntu0.1) ...\n",
            "Setting up libespeak-ng1:amd64 (1.50+dfsg-10ubuntu0.1) ...\n",
            "Setting up espeak-ng (1.50+dfsg-10ubuntu0.1) ...\n",
            "Processing triggers for man-db (2.10.2-1) ...\n",
            "Processing triggers for libc-bin (2.35-0ubuntu3.8) ...\n",
            "/sbin/ldconfig.real: /usr/local/lib/libur_loader.so.0 is not a symbolic link\n",
            "\n",
            "/sbin/ldconfig.real: /usr/local/lib/libur_adapter_level_zero_v2.so.0 is not a symbolic link\n",
            "\n",
            "/sbin/ldconfig.real: /usr/local/lib/libtbbbind_2_5.so.3 is not a symbolic link\n",
            "\n",
            "/sbin/ldconfig.real: /usr/local/lib/libtcm.so.1 is not a symbolic link\n",
            "\n",
            "/sbin/ldconfig.real: /usr/local/lib/libtbbbind_2_0.so.3 is not a symbolic link\n",
            "\n",
            "/sbin/ldconfig.real: /usr/local/lib/libtbbmalloc_proxy.so.2 is not a symbolic link\n",
            "\n",
            "/sbin/ldconfig.real: /usr/local/lib/libumf.so.0 is not a symbolic link\n",
            "\n",
            "/sbin/ldconfig.real: /usr/local/lib/libhwloc.so.15 is not a symbolic link\n",
            "\n",
            "/sbin/ldconfig.real: /usr/local/lib/libur_adapter_level_zero.so.0 is not a symbolic link\n",
            "\n",
            "/sbin/ldconfig.real: /usr/local/lib/libtcm_debug.so.1 is not a symbolic link\n",
            "\n",
            "/sbin/ldconfig.real: /usr/local/lib/libur_adapter_opencl.so.0 is not a symbolic link\n",
            "\n",
            "/sbin/ldconfig.real: /usr/local/lib/libtbbmalloc.so.2 is not a symbolic link\n",
            "\n",
            "/sbin/ldconfig.real: /usr/local/lib/libtbbbind.so.3 is not a symbolic link\n",
            "\n",
            "/sbin/ldconfig.real: /usr/local/lib/libtbb.so.12 is not a symbolic link\n",
            "\n"
          ]
        }
      ]
    },
    {
      "cell_type": "code",
      "source": [
        "#  Text-to-Speech Setup\n",
        "engine = pyttsx3.init()\n",
        "engine.setProperty('rate', 150)\n",
        "\n",
        "def speak(text):\n",
        "    engine.say(text)\n",
        "    engine.runAndWait()"
      ],
      "metadata": {
        "id": "_FoL7jVlJk_n"
      },
      "execution_count": 13,
      "outputs": []
    },
    {
      "cell_type": "code",
      "source": [
        "#Score Tracking\n",
        "score = {\"Vocabulary\": 0, \"Grammar\": 0, \"Pronunciation\": 0}\n"
      ],
      "metadata": {
        "id": "39EqFTLzJ4Bn"
      },
      "execution_count": 14,
      "outputs": []
    },
    {
      "cell_type": "code",
      "source": [
        "#Difficulty selection\n",
        "def choose_difficulty():\n",
        "    print(\"\\nChoose difficulty level:\")\n",
        "    print(\"1. Easy\")\n",
        "    print(\"2. Medium\")\n",
        "    print(\"3. Hard\")\n",
        "    choice = input(\"Enter 1-3: \").strip()\n",
        "    if choice == \"1\": return \"Easy\"\n",
        "    elif choice == \"2\": return \"Medium\"\n",
        "    elif choice == \"3\": return \"Hard\"\n",
        "    else:\n",
        "        print(\"Invalid choice. Defaulting to Easy.\")\n",
        "        return \"Easy\""
      ],
      "metadata": {
        "id": "ec5Ia6uaJ_GZ"
      },
      "execution_count": 17,
      "outputs": []
    },
    {
      "cell_type": "code",
      "source": [
        "#Conversation Practice (30+)\n",
        "conversation_questions = {\n",
        "    \"How are you?\": [\"I'm fine, thank you.\", \"Doing great!\", \"Feeling good today!\"],\n",
        "    \"What’s your favorite food?\": [\"I love pasta.\", \"Noodles is my favorite.\", \"I enjoy Indian food.\"],\n",
        "    \"Where do you live?\": [\"I live in Boston.\", \"I’m from Paris.\", \"Currently in Tokyo!\"],\n",
        "    \"What do you do for fun?\": [\"I enjoy reading.\", \"I love hiking.\", \"I watch movies.\"],\n",
        "    \"Do you like sports?\": [\"Yes, I love football.\", \"I prefer swimming.\", \"Basketball is my favorite.\"],\n",
        "    \"What’s your favorite color?\": [\"Blue.\", \"Green.\", \"Red.\"],\n",
        "    \"Do you have any pets?\": [\"Yes, a dog.\", \"I have a cat.\", \"No, I don’t.\"],\n",
        "    \"What time do you wake up?\": [\"At 6 AM.\", \"Around 7 AM.\", \"Usually 8 AM.\"],\n",
        "    \"Do you like music?\": [\"Yes, very much.\", \"I love classical music.\", \"Pop music is my favorite.\"],\n",
        "    \"What is your favorite season?\": [\"Summer.\", \"Winter.\", \"Spring.\"],\n",
        "    \"Have you traveled abroad?\": [\"Yes, last year.\", \"Not yet.\", \"Many times!\"],\n",
        "    \"Do you like reading books?\": [\"Yes, especially novels.\", \"I enjoy biographies.\", \"Not much.\"],\n",
        "    \"What languages do you speak?\": [\"English and Spanish.\", \"French and German.\", \"Just English.\"],\n",
        "    \"What’s your favorite movie?\": [\"Inception.\", \"Titanic.\", \"The Matrix.\"],\n",
        "    \"Do you like cooking?\": [\"Yes, I enjoy it.\", \"Sometimes.\", \"Not really.\"],\n",
        "    \"What’s your favorite hobby?\": [\"Painting.\", \"Gardening.\", \"Playing chess.\"],\n",
        "    \"Do you like animals?\": [\"Yes, very much.\", \"Some, like dogs.\", \"Not really.\"],\n",
        "    \"Where do you work?\": [\"At a company.\", \"I am a student.\", \"Freelancer.\"],\n",
        "    \"Do you enjoy learning languages?\": [\"Yes, I love it.\", \"Sometimes.\", \"Not much.\"],\n",
        "    \"Do you prefer tea or coffee?\": [\"Tea.\", \"Coffee.\", \"Neither.\"],\n",
        "    \"Do you like traveling?\": [\"Yes, very much.\", \"Sometimes.\", \"Not really.\"],\n",
        "    \"What is your favorite subject?\": [\"Math.\", \"Science.\", \"History.\"],\n",
        "    \"Do you play any instruments?\": [\"Yes, guitar.\", \"No.\", \"Piano.\"],\n",
        "    \"Do you like video games?\": [\"Yes.\", \"Sometimes.\", \"Not really.\"],\n",
        "    \"What’s your favorite fruit?\": [\"Apple.\", \"Banana.\", \"Mango.\"],\n",
        "    \"Do you enjoy outdoor activities?\": [\"Yes.\", \"Sometimes.\", \"Not really.\"],\n",
        "    \"Do you like dancing?\": [\"Yes.\", \"Sometimes.\", \"Not really.\"],\n",
        "    \"What is your dream job?\": [\"Engineer.\", \"Doctor.\", \"Artist.\"],\n",
        "    \"Do you like swimming?\": [\"Yes.\", \"Sometimes.\", \"Not really.\"],\n",
        "    \"Do you enjoy writing?\": [\"Yes.\", \"Sometimes.\", \"Not really.\"],\n",
        "}"
      ],
      "metadata": {
        "id": "LBYveBUsKG66"
      },
      "execution_count": 18,
      "outputs": []
    },
    {
      "cell_type": "code",
      "source": [
        "#Vocabulary Quiz (30+)\n",
        "vocabulary = {\n",
        "    \"happy\": \"feeling or showing pleasure or contentment\",\n",
        "    \"brave\": \"ready to face danger or pain\",\n",
        "    \"generous\": \"showing kindness and willingness to give\",\n",
        "    \"intelligent\": \"having high mental capacity\",\n",
        "    \"friendly\": \"kind and pleasant\",\n",
        "    \"honest\": \"truthful and sincere\",\n",
        "    \"curious\": \"eager to learn or know\",\n",
        "    \"creative\": \"able to think of new ideas\",\n",
        "    \"patient\": \"able to wait calmly\",\n",
        "    \"reliable\": \"able to be trusted\",\n",
        "    \"polite\": \"showing good manners\",\n",
        "    \"confident\": \"having self-assurance\",\n",
        "    \"optimistic\": \"having a positive outlook\",\n",
        "    \"adventurous\": \"willing to take risks\",\n",
        "    \"calm\": \"peaceful and relaxed\",\n",
        "    \"cheerful\": \"noticeably happy\",\n",
        "    \"kind\": \"friendly, generous, and considerate\",\n",
        "    \"loyal\": \"showing firm support\",\n",
        "    \"motivated\": \"very eager to do something\",\n",
        "    \"punctual\": \"arriving on time\",\n",
        "    \"responsible\": \"having duty and accountability\",\n",
        "    \"sincere\": \"genuine and honest\",\n",
        "    \"tolerant\": \"accepting different opinions\",\n",
        "    \"wise\": \"having experience and good judgment\",\n",
        "    \"energetic\": \"full of energy\",\n",
        "    \"efficient\": \"performing tasks well with minimal waste\",\n",
        "    \"helpful\": \"giving assistance\",\n",
        "    \"receptive\": \"willing to consider new ideas\",\n",
        "    \"thoughtful\": \"considerate of others\",\n",
        "    \"understanding\": \"showing empathy and comprehension\",\n",
        "}"
      ],
      "metadata": {
        "id": "AhY6d0JsKbsx"
      },
      "execution_count": 19,
      "outputs": []
    },
    {
      "cell_type": "code",
      "source": [
        "# Grammar Exercises (30+)\n",
        "grammar_exercises = [\n",
        "    {\"sentence\": \"She ____ to school every day.\", \"answer\": \"goes\"},\n",
        "    {\"sentence\": \"They ____ playing football now.\", \"answer\": \"are\"},\n",
        "    {\"sentence\": \"I ____ a book yesterday.\", \"answer\": \"read\"},\n",
        "    {\"sentence\": \"He ____ breakfast before going to work.\", \"answer\": \"eats\"},\n",
        "    {\"sentence\": \"We ____ to the park every Sunday.\", \"answer\": \"go\"},\n",
        "    {\"sentence\": \"She ____ like coffee.\", \"answer\": \"does\"},\n",
        "    {\"sentence\": \"I ____ been to London twice.\", \"answer\": \"have\"},\n",
        "    {\"sentence\": \"They ____ watching a movie when I called.\", \"answer\": \"were\"},\n",
        "    {\"sentence\": \"He ____ very tired yesterday.\", \"answer\": \"was\"},\n",
        "    {\"sentence\": \"She ____ going to the gym tomorrow.\", \"answer\": \"is\"},\n",
        "    {\"sentence\": \"We ____ finished our homework.\", \"answer\": \"have\"},\n",
        "    {\"sentence\": \"I ____ not like spicy food.\", \"answer\": \"do\"},\n",
        "    {\"sentence\": \"They ____ gone to the market already.\", \"answer\": \"have\"},\n",
        "    {\"sentence\": \"He ____ running every morning.\", \"answer\": \"is\"},\n",
        "    {\"sentence\": \"She ____ cooking dinner now.\", \"answer\": \"is\"},\n",
        "    {\"sentence\": \"We ____ planning a trip.\", \"answer\": \"are\"},\n",
        "    {\"sentence\": \"I ____ read this book last year.\", \"answer\": \"did\"},\n",
        "    {\"sentence\": \"They ____ love playing chess.\", \"answer\": \"do\"},\n",
        "    {\"sentence\": \"He ____ understand the question.\", \"answer\": \"does\"},\n",
        "    {\"sentence\": \"She ____ very talented.\", \"answer\": \"is\"},\n",
        "    {\"sentence\": \"I ____ finished my lunch.\", \"answer\": \"have\"},\n",
        "    {\"sentence\": \"We ____ going to the concert tonight.\", \"answer\": \"are\"},\n",
        "    {\"sentence\": \"He ____ never been to Paris.\", \"answer\": \"has\"},\n",
        "    {\"sentence\": \"They ____ working on the project.\", \"answer\": \"are\"},\n",
        "    {\"sentence\": \"She ____ read the instructions carefully.\", \"answer\": \"did\"},\n",
        "    {\"sentence\": \"I ____ going to call my friend.\", \"answer\": \"am\"},\n",
        "    {\"sentence\": \"We ____ meet at 5 PM.\", \"answer\": \"will\"},\n",
        "    {\"sentence\": \"He ____ played football yesterday.\", \"answer\": \"had\"},\n",
        "    {\"sentence\": \"She ____ speaking English fluently.\", \"answer\": \"is\"},\n",
        "    {\"sentence\": \"They ____ enjoyed the party.\", \"answer\": \"have\"},\n",
        "]"
      ],
      "metadata": {
        "id": "fAhCSmq2KjPK"
      },
      "execution_count": 20,
      "outputs": []
    },
    {
      "cell_type": "code",
      "source": [
        "# Functions\n",
        "def conversation_practice():\n",
        "    question = random.choice(list(conversation_questions.keys()))\n",
        "    print(f\"\\nAssistant: {question}\")\n",
        "    speak(question)\n",
        "    user_answer = input(\"You: \")\n",
        "    response = random.choice(conversation_questions[question])\n",
        "    print(\"Assistant:\", response)\n",
        "    speak(response)\n",
        "\n",
        "def vocabulary_quiz(difficulty=\"Easy\"):\n",
        "    word, meaning = random.choice(list(vocabulary.items()))\n",
        "    print(f\"\\nMeaning: {meaning}\")\n",
        "    speak(f\"What is the word for: {meaning}?\")\n",
        "    answer = input(\"Enter the correct word: \").strip().lower()\n",
        "    if answer == word:\n",
        "        print(\"✅ Correct!\")\n",
        "        speak(\"Correct!\")\n",
        "        score[\"Vocabulary\"] += 1\n",
        "    else:\n",
        "        print(f\"❌ Incorrect. The correct word is '{word}'.\")\n",
        "        speak(f\"Incorrect. The correct word is {word}.\")\n",
        "\n",
        "def grammar_exercise(difficulty=\"Easy\"):\n",
        "    exercise = random.choice(grammar_exercises)\n",
        "    print(\"\\nFill in the blank:\")\n",
        "    print(exercise[\"sentence\"])\n",
        "    speak(exercise[\"sentence\"])\n",
        "    answer = input(\"Your answer: \").strip().lower()\n",
        "    if answer == exercise[\"answer\"]:\n",
        "        print(\"✅ Correct!\")\n",
        "        speak(\"Correct!\")\n",
        "        score[\"Grammar\"] += 1\n",
        "    else:\n",
        "        print(f\"❌ Incorrect. The correct answer is '{exercise['answer']}'.\")\n",
        "        speak(f\"Incorrect. The correct answer is {exercise['answer']}.\")\n",
        "\n",
        "def pronunciation_detection(difficulty=\"Easy\"):\n",
        "    recognizer = sr.Recognizer()\n",
        "    microphone = sr.Microphone()\n",
        "    sentence = input(\"\\nEnter the sentence to practice: \").strip()\n",
        "    print(f\"Say the sentence: {sentence}\")\n",
        "    speak(sentence)\n",
        "    try:\n",
        "        with microphone as source:\n",
        "            recognizer.adjust_for_ambient_noise(source)\n",
        "            audio = recognizer.listen(source)\n",
        "        spoken = recognizer.recognize_google(audio)\n",
        "        print(f\"You said: {spoken}\")\n",
        "        reference_words = sentence.lower().split()\n",
        "        spoken_words = spoken.lower().split()\n",
        "        correct_words = [w for w in reference_words if w in spoken_words]\n",
        "        incorrect_words = [w for w in reference_words if w not in spoken_words]\n",
        "        accuracy = (len(correct_words)/len(reference_words))*100\n",
        "        print(f\"Accuracy: {accuracy:.2f}%\")\n",
        "        if accuracy >= 70: score[\"Pronunciation\"] += 1\n",
        "        if incorrect_words:\n",
        "            print(\"Mispronounced/Missing words:\", \", \".join(incorrect_words))\n",
        "    except:\n",
        "        print(\"❌ Could not recognize speech.\")\n",
        "\n",
        "def show_progress():\n",
        "    print(\"\\n=== Session Progress ===\")\n",
        "    for category in score:\n",
        "        print(f\"{category}: {score[category]}\")\n",
        "    total_score = sum(score.values())\n",
        "    print(f\"Overall Score: {total_score}\")"
      ],
      "metadata": {
        "id": "dPDb8xNOKqi5"
      },
      "execution_count": 21,
      "outputs": []
    },
    {
      "cell_type": "code",
      "source": [
        "# Main Menu -\n",
        "def main():\n",
        "    print(\" TalkTrack-Daily Language Learning Assistant \")\n",
        "    speak(\"Welcome to the TalkTrack your learning assistant!\")\n",
        "    difficulty = choose_difficulty()\n",
        "    while True:\n",
        "        print(\"\\nChoose an option:\")\n",
        "        print(\"1. Conversation Practice\")\n",
        "        print(\"2. Vocabulary Quiz\")\n",
        "        print(\"3. Grammar Exercise\")\n",
        "        print(\"4. Pronunciation Detection\")\n",
        "        print(\"5. Show Progress\")\n",
        "        print(\"6. Exit\")\n",
        "        choice = input(\"Enter 1-6: \").strip()\n",
        "        if choice == '1': conversation_practice()\n",
        "        elif choice == '2': vocabulary_quiz(difficulty)\n",
        "        elif choice == '3': grammar_exercise(difficulty)\n",
        "        elif choice == '4': pronunciation_detection(difficulty)\n",
        "        elif choice == '5': show_progress()\n",
        "        elif choice == '6':\n",
        "            print(\"Goodbye! 👋\")\n",
        "            speak(\"Goodbye! Have a nice day!\")\n",
        "            break\n",
        "        else:\n",
        "            print(\"Invalid choice. Try again.\")\n",
        "\n",
        "if __name__ == \"__main__\":\n",
        "    main()"
      ],
      "metadata": {
        "colab": {
          "base_uri": "https://localhost:8080/"
        },
        "id": "n81y2gBwK0D_",
        "outputId": "a64d426c-1ccf-4c8f-cf20-a680d1d460be"
      },
      "execution_count": 24,
      "outputs": [
        {
          "output_type": "stream",
          "name": "stdout",
          "text": [
            " TalkTrack-Daily Language Learning Assistant \n",
            "\n",
            "Choose difficulty level:\n",
            "1. Easy\n",
            "2. Medium\n",
            "3. Hard\n",
            "Enter 1-3: 3\n",
            "\n",
            "Choose an option:\n",
            "1. Conversation Practice\n",
            "2. Vocabulary Quiz\n",
            "3. Grammar Exercise\n",
            "4. Pronunciation Detection\n",
            "5. Show Progress\n",
            "6. Exit\n",
            "Enter 1-6: 1\n",
            "\n",
            "Assistant: Do you play any instruments?\n",
            "You: yes\n",
            "Assistant: Yes, guitar.\n",
            "\n",
            "Choose an option:\n",
            "1. Conversation Practice\n",
            "2. Vocabulary Quiz\n",
            "3. Grammar Exercise\n",
            "4. Pronunciation Detection\n",
            "5. Show Progress\n",
            "6. Exit\n",
            "Enter 1-6: 6\n",
            "Goodbye! 👋\n"
          ]
        }
      ]
    }
  ]
}
